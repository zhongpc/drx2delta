{
 "cells": [
  {
   "cell_type": "code",
   "execution_count": 1,
   "id": "5afbfeb9",
   "metadata": {},
   "outputs": [],
   "source": [
    "import numpy as np\n",
    "from pymatgen.core import Structure, Species, PeriodicSite\n",
    "from pymatgen.transformations.standard_transformations import OrderDisorderedStructureTransformation\n",
    "import random\n",
    "import os\n",
    "import json\n",
    "import time\n",
    "from monty.json import jsanitize\n",
    "\n",
    "# from chgnet.model.model import CHGNet\n",
    "# from chgnet.model.dynamics import StructOptimizer\n",
    "\n",
    "\n",
    "def mkdir(path):\n",
    "    folder = os.path.exists(path)\n",
    "    if not folder:\n",
    "        os.makedirs(path)\n",
    "    else:\n",
    "        print(\"Folder exists\")"
   ]
  },
  {
   "cell_type": "markdown",
   "id": "dd445b11",
   "metadata": {},
   "source": [
    "# Fill the face-sharing Li to all oct Li"
   ]
  },
  {
   "cell_type": "markdown",
   "id": "f6cb6eff",
   "metadata": {},
   "source": [
    "# Prepare the lithiated structure"
   ]
  },
  {
   "cell_type": "code",
   "execution_count": 2,
   "id": "3ea8d959",
   "metadata": {},
   "outputs": [
    {
     "name": "stderr",
     "output_type": "stream",
     "text": [
      "/Users/zhongpc/opt/anaconda3/envs/chgnet/lib/python3.9/site-packages/pymatgen/core/structure.py:477: UserWarning: Some species to be substituted are not present in structure. Pls check your input. Species to be substituted = {Species K+, Species Na+}; Species in structure = {Species F-, Species O2-, Species Ti4+, Species H+, Species Mn3+, Species Li+}\n",
      "  warnings.warn(\n"
     ]
    }
   ],
   "source": [
    "s0 = Structure.from_file('./tet-label-drx_LMTOF.cif')\n",
    "s0.replace_species({'Na+': {'Li+': 1.0}, 'K+': {'H+': 1.0}})\n",
    "\n",
    "sites = s0.sites\n",
    "\n",
    "s_new = s0.copy()\n",
    "\n",
    "for ii, site in enumerate(sites):\n",
    "    if ('Ti' in str(site)) or ('Mn' in str(site)):\n",
    "        pass\n",
    "#         print(site)\n",
    "    else:\n",
    "        continue\n",
    "\n",
    "    neighor_list = s0.get_neighbors(site, r = 1.82)\n",
    "\n",
    "    condition_Li = 0\n",
    "    condition_Na = 0\n",
    "    condition_TM = 0\n",
    "\n",
    "    neighbor_indices = []\n",
    "    for neighbor in neighor_list:\n",
    "        if 'Li' in str(neighbor):\n",
    "            condition_Li += 1\n",
    "            neighbor_indices.append(neighbor.index)\n",
    "        elif 'Na' in str(neighbor):\n",
    "            condition_Na += 1\n",
    "            neighbor_indices.append(neighbor.index)\n",
    "        elif ('Ti' in str(neighbor)) or ('Mn' in str(neighbor)):\n",
    "            condition_TM += 1\n",
    "            neighbor_indices.append(neighbor.index)\n",
    "            \n",
    "#     print(neighbor_indices)\n",
    "#     print(nei)\n",
    "            \n",
    "    for n_idx in neighbor_indices:\n",
    "        s_new.replace(n_idx, 'Na+')\n",
    "        \n",
    "        \n",
    "s_new.remove_species(['K+'])\n",
    "s_new.to(filename='./LMTO_init.cif')"
   ]
  },
  {
   "cell_type": "code",
   "execution_count": null,
   "id": "21d100ba",
   "metadata": {},
   "outputs": [],
   "source": []
  },
  {
   "cell_type": "code",
   "execution_count": null,
   "id": "b54e63d8",
   "metadata": {},
   "outputs": [],
   "source": []
  },
  {
   "cell_type": "code",
   "execution_count": 3,
   "id": "8043245e",
   "metadata": {},
   "outputs": [
    {
     "name": "stderr",
     "output_type": "stream",
     "text": [
      "/Users/zhongpc/opt/anaconda3/envs/chgnet/lib/python3.9/site-packages/pymatgen/core/structure.py:477: UserWarning: Some species to be substituted are not present in structure. Pls check your input. Species to be substituted = {Species K+, Species Li+}; Species in structure = {Species F-, Species O2-, Species Ti4+, Species H+, Species Mn3+, Species Li+}\n",
      "  warnings.warn(\n"
     ]
    }
   ],
   "source": [
    "s0 = Structure.from_file('./tet-label-drx_LMTOF.cif')\n",
    "s0.replace_species({'Li+': {'Na+': 1.0}, 'K+': {'H+': 1.0}})\n",
    "\n",
    "sites = s0.sites\n",
    "\n",
    "s_new = s0.copy()\n",
    "\n",
    "for ii, site in enumerate(sites):\n",
    "    if ('Ti' in str(site)) or ('Mn' in str(site)):\n",
    "        pass\n",
    "    else:\n",
    "        continue\n",
    "\n",
    "    neighor_list = s0.get_neighbors(site, r = 1.82)\n",
    "\n",
    "    condition_Li = 0\n",
    "    condition_Na = 0\n",
    "    condition_TM = 0\n",
    "\n",
    "    neighbor_indices = []\n",
    "    for neighbor in neighor_list:\n",
    "        if 'Li' in str(neighbor):\n",
    "            condition_Li += 1\n",
    "            neighbor_indices.append(neighbor.index)\n",
    "        elif 'Na' in str(neighbor):\n",
    "            condition_Na += 1\n",
    "            neighbor_indices.append(neighbor.index)\n",
    "        elif ('Ti' in str(neighbor)) or ('Mn' in str(neighbor)):\n",
    "            condition_TM += 1\n",
    "            neighbor_indices.append(neighbor.index)\n",
    "            \n",
    "#     print(neighbor_indices)\n",
    "            \n",
    "    for n_idx in neighbor_indices:\n",
    "        s_new.replace(n_idx, 'Na+')\n",
    "        \n",
    "        \n",
    "s_new.remove_species(['K+', 'Li+'])\n",
    "s_new.to(filename='./TMO_init.cif')"
   ]
  },
  {
   "cell_type": "code",
   "execution_count": null,
   "id": "fad0afd4",
   "metadata": {},
   "outputs": [],
   "source": []
  },
  {
   "cell_type": "code",
   "execution_count": null,
   "id": "2dba3a1b",
   "metadata": {},
   "outputs": [],
   "source": []
  },
  {
   "cell_type": "code",
   "execution_count": 4,
   "id": "8d1dd9a9",
   "metadata": {},
   "outputs": [],
   "source": [
    "s0 = Structure.from_file('./tet-label-drx_LMTOF.cif')\n",
    "# s0.replace_species({'Li+': {'Na+': 1.0}, 'K+': {'H+': 1.0}})\n",
    "\n",
    "sites = s0.sites\n",
    "\n",
    "s_new = s0.copy()\n",
    "\n",
    "for ii, site in enumerate(sites):\n",
    "    if ('H+' in str(site)):\n",
    "        pass\n",
    "    else:\n",
    "        continue\n",
    "\n",
    "    neighor_list = s0.get_neighbors(site, r = 1.82)\n",
    "\n",
    "    condition_Li = 0\n",
    "    condition_Na = 0\n",
    "    condition_TM = 0\n",
    "\n",
    "    neighbor_indices = []\n",
    "    for neighbor in neighor_list:\n",
    "        if 'Li' in str(neighbor):\n",
    "            condition_Li += 1\n",
    "            neighbor_indices.append(neighbor.index)\n",
    "        elif 'Na' in str(neighbor):\n",
    "            condition_Na += 1\n",
    "            neighbor_indices.append(neighbor.index)\n",
    "        elif ('Ti' in str(neighbor)) or ('Mn' in str(neighbor)):\n",
    "            condition_TM += 1\n",
    "            neighbor_indices.append(neighbor.index)\n",
    "            \n",
    "\n",
    "    if condition_Li == 4:\n",
    "        for n_idx in neighbor_indices:\n",
    "            s_new.replace(n_idx, 'Na+')\n",
    "            s_new.replace(ii, 'K+')\n",
    "        \n",
    "s_new.to(filename='./inter_init.cif')"
   ]
  },
  {
   "cell_type": "code",
   "execution_count": null,
   "id": "03aac384",
   "metadata": {},
   "outputs": [],
   "source": []
  },
  {
   "cell_type": "code",
   "execution_count": 5,
   "id": "1a4159a2",
   "metadata": {},
   "outputs": [],
   "source": [
    "s0 = Structure.from_file('./tet-label-drx_LMTOF.cif')\n",
    "# s0.replace_species({'Li+': {'Na+': 1.0}, 'K+': {'H+': 1.0}})\n",
    "\n",
    "sites = s0.sites\n",
    "\n",
    "s_new = s0.copy()\n",
    "\n",
    "for ii, site in enumerate(sites):\n",
    "    if ('H+' in str(site)):\n",
    "        pass\n",
    "    else:\n",
    "        continue\n",
    "\n",
    "    neighor_list = s0.get_neighbors(site, r = 1.82)\n",
    "\n",
    "    condition_Li = 0\n",
    "    condition_Na = 0\n",
    "    condition_TM = 0\n",
    "\n",
    "    neighbor_indices = []\n",
    "    for neighbor in neighor_list:\n",
    "        if 'Li' in str(neighbor):\n",
    "            condition_Li += 1\n",
    "            neighbor_indices.append(neighbor.index)\n",
    "        elif 'Na' in str(neighbor):\n",
    "            condition_Na += 1\n",
    "            neighbor_indices.append(neighbor.index)\n",
    "        elif ('Ti' in str(neighbor)) or ('Mn' in str(neighbor)):\n",
    "            condition_TM += 1\n",
    "            neighbor_indices.append(neighbor.index)\n",
    "            \n",
    "\n",
    "#     if condition_Li == 4:\n",
    "#         for n_idx in neighbor_indices:\n",
    "#             s_new.replace(n_idx, 'Na+')\n",
    "#             s_new.replace(ii, 'Li+')\n",
    "        \n",
    "s_new.to(filename='./noTet_TMO.cif')"
   ]
  },
  {
   "cell_type": "code",
   "execution_count": null,
   "id": "7ed1eb14",
   "metadata": {},
   "outputs": [],
   "source": []
  }
 ],
 "metadata": {
  "kernelspec": {
   "display_name": "Python 3 (ipykernel)",
   "language": "python",
   "name": "python3"
  },
  "language_info": {
   "codemirror_mode": {
    "name": "ipython",
    "version": 3
   },
   "file_extension": ".py",
   "mimetype": "text/x-python",
   "name": "python",
   "nbconvert_exporter": "python",
   "pygments_lexer": "ipython3",
   "version": "3.9.12"
  }
 },
 "nbformat": 4,
 "nbformat_minor": 5
}
