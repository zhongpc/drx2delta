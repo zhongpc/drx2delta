{
 "cells": [
  {
   "cell_type": "code",
   "execution_count": 1,
   "id": "8b3dc59a",
   "metadata": {},
   "outputs": [],
   "source": [
    "from ElectrodeSimulator.utils import mkdir\n",
    "from pymatgen.core import Structure, Species, PeriodicSite\n",
    "from smol.cofe import ClusterSubspace\n",
    "from smol.cofe.space import get_allowed_species, Vacancy\n",
    "import random\n",
    "import os\n",
    "\n",
    "from ElectrodeSimulator.sampler.path_sampler import PathFinder_oTo_rocksalt\n",
    "from ElectrodeSimulator.relaxer.gnn_relaxer import m3gnetRelaxer\n",
    "from m3gnet.models import M3GNet, Potential, Relaxer\n",
    "\n",
    "from pymatgen.analysis.structure_matcher import (\n",
    "    OrderDisorderElementComparator,\n",
    "    StructureMatcher,\n",
    ")\n",
    "\n",
    "from pymatgen.io.cif import str2float\n",
    "import numpy as np\n",
    "\n",
    "from copy import deepcopy\n",
    "import pickle\n",
    "\n",
    "def readFromSQSCell(filename = './sqscell.out'):\n",
    "    f = open (filename , 'r')\n",
    "    lines = []\n",
    "    lines = [line.split() for line in f]\n",
    "    \n",
    "    supercell_list =[]\n",
    "    matrix = []\n",
    "    for ii, l in enumerate(lines[2:]):\n",
    "        if (ii %4 != 3 ):\n",
    "            vector = [str2float(ele) for ele in l] \n",
    "            matrix.append(vector)\n",
    "\n",
    "        else:\n",
    "            supercell_list.append(np.array(matrix))\n",
    "            matrix = []\n",
    "    \n",
    "    \n",
    "    return supercell_list"
   ]
  },
  {
   "cell_type": "code",
   "execution_count": 2,
   "id": "9629c057",
   "metadata": {},
   "outputs": [
    {
     "name": "stderr",
     "output_type": "stream",
     "text": [
      "/Users/zhongpc/opt/anaconda3/envs/m3gnet/lib/python3.9/site-packages/pymatgen/core/periodic_table.py:212: UserWarning: No electronegativity for He. Setting to NaN. This has no physical meaning, and is mainly done to avoid errors caused by the code expecting a float.\n",
      "  warnings.warn(\n"
     ]
    }
   ],
   "source": [
    "tet_prim = Structure.from_file('./orderings/tet_prim.cif')\n",
    "ro =  {'Li':{'Li+':1/5, 'Mn3+':1/5, 'Ti4+':1/5, 'Co3+': 1/5}, 'O':{'O2-': 1/2, 'F-': 1/2}, 'H':{'H+':1/3, 'He+': 1/3}}\n",
    "tet_prim.replace_species(ro)\n",
    "\n",
    "\n",
    "prim = Structure.from_file('./orderings/LiF.cif')\n",
    "ro = {'Li+':{'Li+':1/5, 'Mn3+':1/5, 'Ti4+':1/5, 'Co3+': 1/5}, 'F-':{'O2-': 1/2, 'F-': 1/2}}\n",
    "prim.replace_species(ro)\n",
    "\n",
    "\n",
    "subspace = ClusterSubspace.from_cutoffs(prim,\n",
    "                                      cutoffs={2: 4}, # will include orbits of 2 and 3 sites.\n",
    "                                      basis='indicator',\n",
    "                                      supercell_size='volume')\n",
    "\n",
    "tet_subspace = ClusterSubspace.from_cutoffs(tet_prim,\n",
    "                                      cutoffs={2: 4}, # will include orbits of 2 and 3 sites.\n",
    "                                      basis='indicator',\n",
    "                                      supercell_size='volume')\n"
   ]
  },
  {
   "cell_type": "code",
   "execution_count": 25,
   "id": "340b8dfa",
   "metadata": {},
   "outputs": [],
   "source": [
    "supercell_list = readFromSQSCell('./SQS_out/sqscell_80prim.out')\n",
    "\n",
    "s_spinel_refine = Structure.from_file('./orderings/LiF_spinel.cif')"
   ]
  },
  {
   "cell_type": "code",
   "execution_count": 26,
   "id": "db787200",
   "metadata": {},
   "outputs": [],
   "source": [
    "matcher = StructureMatcher(\n",
    "                primitive_cell=False,\n",
    "                attempt_supercell=True,\n",
    "                allow_subset=True,\n",
    "#                 comparator= OrderDisorderElementComparator(),\n",
    "                scale=True,)"
   ]
  },
  {
   "cell_type": "code",
   "execution_count": 29,
   "id": "5e11b125",
   "metadata": {
    "scrolled": true
   },
   "outputs": [
    {
     "name": "stdout",
     "output_type": "stream",
     "text": [
      "0/5\n",
      "abc =  14688.121160907725\n",
      "1/5\n",
      "abc =  1539.8901612440986\n",
      "2/5\n",
      "abc =  1088.866775298148\n",
      "3/5\n",
      "abc =  3880.9667707426274\n",
      "4/5\n",
      "abc =  9822.18009104143\n"
     ]
    }
   ],
   "source": [
    "found_matrix_list = []\n",
    "\n",
    "\n",
    "for ii, supercell_matrix in enumerate(supercell_list):\n",
    "    print(\"{}/{}\".format(ii, len(supercell_list)))\n",
    "    \n",
    "    LiF_supercell = s_spinel_refine.copy()\n",
    "    LiF_supercell.make_supercell(supercell_matrix)\n",
    "    \n",
    "    lattice =  LiF_supercell.lattice\n",
    "    inner = lattice.a*lattice.b*lattice.c*np.cos(lattice.alpha*np.pi/180)*np.cos(lattice.beta*np.pi/180)*np.cos(lattice.gamma*np.pi/180)\n",
    "    abc = lattice.a*lattice.b*lattice.c\n",
    "    \n",
    "    print(\"abc = \", abc)\n",
    "    \n",
    "#     if np.abs(abc) > (LiF_supercell.volume * 2 ):\n",
    "#         continue\n",
    "    \n",
    "    \n",
    "    try_matrix_spinel = matcher.get_supercell_matrix(LiF_supercell, s_spinel_refine)\n",
    "    \n",
    "    found_matrix_list.append(supercell_matrix)"
   ]
  },
  {
   "cell_type": "code",
   "execution_count": 30,
   "id": "2a5f32ae",
   "metadata": {},
   "outputs": [
    {
     "data": {
      "text/plain": [
       "5"
      ]
     },
     "execution_count": 30,
     "metadata": {},
     "output_type": "execute_result"
    }
   ],
   "source": [
    "len(found_matrix_list)"
   ]
  },
  {
   "cell_type": "code",
   "execution_count": 34,
   "id": "ae27fb38",
   "metadata": {},
   "outputs": [
    {
     "name": "stdout",
     "output_type": "stream",
     "text": [
      "Folder exists\n"
     ]
    }
   ],
   "source": [
    "mkdir('./SQS_out/found_80/')\n",
    "\n",
    "for ii, M_found in enumerate(found_matrix_list):\n",
    "    \n",
    "    LiF_supercell = s_spinel_refine.copy()\n",
    "    LiF_supercell.make_supercell(M_found)\n",
    "    \n",
    "    LiF_supercell.to(filename='./SQS_out/found_80/xx' + str(ii) + '.cif')"
   ]
  },
  {
   "cell_type": "code",
   "execution_count": 33,
   "id": "a828dbb9",
   "metadata": {},
   "outputs": [
    {
     "data": {
      "text/plain": [
       "Structure Summary\n",
       "Lattice\n",
       "    abc : 12.244998975120058 12.244998975120057 12.244998975120057\n",
       " angles : 13.930554562357656 13.930554562357656 13.930554562357656\n",
       " volume : 92.60999990799337\n",
       "      A : 11.145178325972605 -4.849742259586808 1.4849242400000002\n",
       "      B : 11.145178325972605 -4.849742259586808 -1.4849242399999998\n",
       "      C : 12.002499735662806 -2.424871129793404 8.881784197001252e-16\n",
       "    pbc : True True True\n",
       "PeriodicSite: Li+ (0.0000, 0.0000, 0.0000) [0.0000, 0.0000, 0.0000]\n",
       "PeriodicSite: Li+ (6.8586, -2.4249, 0.0000) [0.2000, 0.2000, 0.2000]\n",
       "PeriodicSite: Li+ (13.7171, -4.8497, 0.0000) [0.4000, 0.4000, 0.4000]\n",
       "PeriodicSite: Li+ (20.5757, -7.2746, 0.0000) [0.6000, 0.6000, 0.6000]\n",
       "PeriodicSite: Li+ (27.4343, -9.6995, 0.0000) [0.8000, 0.8000, 0.8000]\n",
       "PeriodicSite: F- (24.0050, -8.4870, 0.0000) [0.7000, 0.7000, 0.7000]\n",
       "PeriodicSite: F- (30.8636, -10.9119, 0.0000) [0.9000, 0.9000, 0.9000]\n",
       "PeriodicSite: F- (3.4293, -1.2124, 0.0000) [0.1000, 0.1000, 0.1000]\n",
       "PeriodicSite: F- (10.2879, -3.6373, 0.0000) [0.3000, 0.3000, 0.3000]\n",
       "PeriodicSite: F- (17.1464, -6.0622, 0.0000) [0.5000, 0.5000, 0.5000]"
      ]
     },
     "execution_count": 33,
     "metadata": {},
     "output_type": "execute_result"
    }
   ],
   "source": [
    "M_found = found_matrix_list[4]\n",
    "\n",
    "LiF_supercell = Structure.from_file('./orderings/LiF.cif')\n",
    "LiF_supercell.make_supercell(found_matrix_list[0])\n",
    "\n",
    "\n",
    "LiF_supercell"
   ]
  },
  {
   "cell_type": "code",
   "execution_count": 17,
   "id": "75ca7c58",
   "metadata": {},
   "outputs": [],
   "source": [
    "s_LiCoO2 = Structure.from_file('./orderings/LiCoO2_refine.cif')\n",
    "s_LiCoO2.make_supercell(M_found)\n",
    "\n",
    "s_LiCoO2.to(filename= './orderings/LiCoO2_super.cif')\n"
   ]
  },
  {
   "cell_type": "code",
   "execution_count": null,
   "id": "ea287577",
   "metadata": {},
   "outputs": [],
   "source": []
  }
 ],
 "metadata": {
  "kernelspec": {
   "display_name": "Python 3 (ipykernel)",
   "language": "python",
   "name": "python3"
  },
  "language_info": {
   "codemirror_mode": {
    "name": "ipython",
    "version": 3
   },
   "file_extension": ".py",
   "mimetype": "text/x-python",
   "name": "python",
   "nbconvert_exporter": "python",
   "pygments_lexer": "ipython3",
   "version": "3.9.12"
  }
 },
 "nbformat": 4,
 "nbformat_minor": 5
}
